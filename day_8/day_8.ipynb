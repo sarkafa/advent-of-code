{
 "cells": [
  {
   "cell_type": "markdown",
   "metadata": {},
   "source": [
    "# Day 8: Treetop Tree House\n",
    "# Part One\n",
    "\n",
    "The expedition comes across a peculiar patch of tall trees all planted carefully in a grid. The Elves explain that a previous expedition planted these trees as a reforestation effort. Now, they're curious if this would be a good location for a tree house.\n",
    "\n",
    "First, determine whether there is enough tree cover here to keep a tree house hidden. To do this, you need to count the number of trees that are visible from outside the grid when looking directly along a row or column.\n",
    "\n",
    "The Elves have already launched a quadcopter to generate a map with the height of each tree (your puzzle input). For example:\n",
    "\n",
    "30373\\\n",
    "25512\\\n",
    "65332\\\n",
    "33549\\\n",
    "35390\n",
    "\n",
    "Each tree is represented as a single digit whose value is its height, where 0 is the shortest and 9 is the tallest.\n",
    "\n",
    "A tree is visible if all of the other trees between it and an edge of the grid are shorter than it. Only consider trees in the same row or column; that is, only look up, down, left, or right from any given tree.\n",
    "\n",
    "All of the trees around the edge of the grid are visible - since they are already on the edge, there are no trees to block the view. In this example, that only leaves the interior nine trees to consider:\n",
    "\n",
    "- The top-left 5 is visible from the left and top. (It isn't visible from the right or bottom since other trees of height 5 are in the way.)\n",
    "- The top-middle 5 is visible from the top and right.\n",
    "- The top-right 1 is not visible from any direction; for it to be visible, there would need to only be trees of height 0 between it and an edge.\n",
    "- The left-middle 5 is visible, but only from the right.\n",
    "- The center 3 is not visible from any direction; for it to be visible, there would need to be only trees of at most height 2 between it and an edge.\n",
    "- The right-middle 3 is visible from the right.\n",
    "- In the bottom row, the middle 5 is visible, but the 3 and 4 are not.\n",
    "\n",
    "With 16 trees visible on the edge and another 5 visible in the interior, a total of 21 trees are visible in this arrangement.\n",
    "\n",
    "Consider your map; how many trees are visible from outside the grid?\n"
   ]
  },
  {
   "cell_type": "code",
   "execution_count": 20,
   "metadata": {},
   "outputs": [
    {
     "name": "stdout",
     "output_type": "stream",
     "text": [
      "Number of visible trees: 1,719\n"
     ]
    }
   ],
   "source": [
    "with open('data.txt', 'r') as input:\n",
    "    lines = input.readlines()\n",
    "\n",
    "columns = {k: [] for k in range(0, len(lines[0]))}\n",
    "rows = {}\n",
    "\n",
    "for row_nr, line in enumerate(lines):\n",
    "    digits = [int(value) for value in list(line.strip())]\n",
    "    rows[row_nr] = digits\n",
    "    for column_nr, digit in enumerate(digits):\n",
    "        columns[column_nr].append(int(digit))\n",
    "\n",
    "max_coumn = len(columns[0])\n",
    "max_row = len(rows[0])\n",
    "visible_trees = 2 * max_coumn + 2 * (max_row - 2)  # visible trees from grid \n",
    "\n",
    "for row_nr, row in rows.items():\n",
    "    for column_nr, tree in enumerate(row):\n",
    "        if row_nr == 0 or row_nr == (max_row - 1) or \\\n",
    "                column_nr == 0 or column_nr == (max_coumn - 1):\n",
    "            continue\n",
    "        left = sorted(rows[row_nr][:column_nr])\n",
    "        right = sorted(rows[row_nr][column_nr + 1:])\n",
    "        top = sorted(columns[column_nr][:row_nr])\n",
    "        down = sorted(columns[column_nr][row_nr + 1:])\n",
    "        if tree > left[-1] or tree > right[-1] or tree > top[-1] or \\\n",
    "                tree > down[-1]:\n",
    "            visible_trees += 1\n",
    "\n",
    "print(f'Number of visible trees: {visible_trees:,}')"
   ]
  },
  {
   "cell_type": "markdown",
   "metadata": {},
   "source": [
    "## Part Two\n",
    "\n",
    "Content with the amount of tree cover available, the Elves just need to know the best spot to build their tree house: they would like to be able to see a lot of trees.\n",
    "\n",
    "To measure the viewing distance from a given tree, look up, down, left, and right from that tree; stop if you reach an edge or at the first tree that is the same height or taller than the tree under consideration. (If a tree is right on the edge, at least one of its viewing distances will be zero.)\n",
    "\n",
    "The Elves don't care about distant trees taller than those found by the rules above; the proposed tree house has large eaves to keep it dry, so they wouldn't be able to see higher than the tree house anyway.\n",
    "\n",
    "In the example above, consider the middle 5 in the second row:\n",
    "\n",
    "30373\\\n",
    "25512\\\n",
    "65332\\\n",
    "33549\\\n",
    "35390\n",
    "\n",
    "- Looking up, its view is not blocked; it can see 1 tree (of height 3).\n",
    "- Looking left, its view is blocked immediately; it can see only 1 tree (of height 5, right next to it).\n",
    "- Looking right, its view is not blocked; it can see 2 trees.\n",
    "- Looking down, its view is blocked eventually; it can see 2 trees (one of height 3, then the tree of height 5 that blocks its view).\n",
    "\n",
    "A tree's scenic score is found by multiplying together its viewing distance in each of the four directions. For this tree, this is 4 (found by multiplying 1 * 1 * 2 * 2).\n",
    "\n",
    "However, you can do even better: consider the tree of height 5 in the middle of the fourth row:\n",
    "\n",
    "30373\\\n",
    "25512\\\n",
    "65332\\\n",
    "33549\\\n",
    "35390\n",
    "\n",
    "- Looking up, its view is blocked at 2 trees (by another tree with a height of 5).\n",
    "- Looking left, its view is not blocked; it can see 2 trees.\n",
    "- Looking down, its view is also not blocked; it can see 1 tree.\n",
    "- Looking right, its view is blocked at 2 trees (by a massive tree of height 9).\n",
    "\n",
    "This tree's scenic score is 8 (2 * 2 * 1 * 2); this is the ideal spot for the tree house.\n",
    "\n",
    "Consider each tree on your map. What is the highest scenic score possible for any tree?\n"
   ]
  },
  {
   "cell_type": "code",
   "execution_count": 36,
   "metadata": {},
   "outputs": [
    {
     "name": "stdout",
     "output_type": "stream",
     "text": [
      "Max tree view score: 590824\n"
     ]
    }
   ],
   "source": [
    "max_tree_score = 0\n",
    "\n",
    "def find_position(the_tree, trees_part):\n",
    "    if not trees_part:\n",
    "        return 0\n",
    "    for position, tree in enumerate(trees_part, 1):\n",
    "        if tree >= the_tree:\n",
    "            return position\n",
    "        max_position = position\n",
    "    return max_position\n",
    "        \n",
    "for row_nr, row in rows.items():\n",
    "    for column_nr, tree in enumerate(row):\n",
    "\n",
    "        left = list(reversed(rows[row_nr][:column_nr]))\n",
    "        right = rows[row_nr][column_nr + 1:]\n",
    "        top = list(reversed(columns[column_nr][:row_nr]))\n",
    "        down = columns[column_nr][row_nr + 1:]\n",
    "\n",
    "        tree_score = find_position(tree, left) * find_position(tree, right) * \\\n",
    "                     find_position(tree, top) * find_position(tree, down)\n",
    "\n",
    "        if tree_score > max_tree_score:\n",
    "            max_tree_score = tree_score\n",
    "\n",
    "print(f'Max tree view score: {max_tree_score}')"
   ]
  }
 ],
 "metadata": {
  "kernelspec": {
   "display_name": "Python 3.10.8 ('adventvenv': venv)",
   "language": "python",
   "name": "python3"
  },
  "language_info": {
   "codemirror_mode": {
    "name": "ipython",
    "version": 3
   },
   "file_extension": ".py",
   "mimetype": "text/x-python",
   "name": "python",
   "nbconvert_exporter": "python",
   "pygments_lexer": "ipython3",
   "version": "3.10.8"
  },
  "orig_nbformat": 4,
  "vscode": {
   "interpreter": {
    "hash": "949557525df4f288aa6b01b9ecd0e577ebf1fcab132ff1604e97c4ee9041d48a"
   }
  }
 },
 "nbformat": 4,
 "nbformat_minor": 2
}
