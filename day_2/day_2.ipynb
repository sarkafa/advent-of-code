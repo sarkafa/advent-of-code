{
 "cells": [
  {
   "cell_type": "markdown",
   "metadata": {},
   "source": [
    "# Day 2: Rock Paper Scissors\n",
    "## Part One\n",
    "\n",
    "The Elves begin to set up camp on the beach. To decide whose tent gets to be closest to the snack storage, a giant Rock Paper Scissors tournament is already in progress.\n",
    "\n",
    "Rock Paper Scissors is a game between two players. Each game contains many rounds; in each round, the players each simultaneously choose one of Rock, Paper, or Scissors using a hand shape. Then, a winner for that round is selected: Rock defeats Scissors, Scissors defeats Paper, and Paper defeats Rock. If both players choose the same shape, the round instead ends in a draw.\n",
    "\n",
    "Appreciative of your help yesterday, one Elf gives you an encrypted strategy guide (your puzzle input) that they say will be sure to help you win. \"The first column is what your opponent is going to play: A for Rock, B for Paper, and C for Scissors. The second column--\" Suddenly, the Elf is called away to help with someone's tent.\n",
    "\n",
    "The second column, you reason, must be what you should play in response: X for Rock, Y for Paper, and Z for Scissors. Winning every time would be suspicious, so the responses must have been carefully chosen.\n",
    "\n",
    "The winner of the whole tournament is the player with the highest score. Your total score is the sum of your scores for each round. The score for a single round is the score for the shape you selected (1 for Rock, 2 for Paper, and 3 for Scissors) plus the score for the outcome of the round (0 if you lost, 3 if the round was a draw, and 6 if you won).\n",
    "\n",
    "Since you can't be sure if the Elf is trying to help you or trick you, you should calculate the score you would get if you were to follow the strategy guide.\n",
    "\n",
    "For example, suppose you were given the following strategy guide:\n",
    "\n",
    "A Y\\\n",
    "B X\\\n",
    "C Z\n",
    "\n",
    "This strategy guide predicts and recommends the following:\n",
    "\n",
    "- In the first round, your opponent will choose Rock (A), and you should choose Paper (Y). This ends in a win for you with a score of 8 (2 because you chose Paper + 6 because you won).\n",
    "- In the second round, your opponent will choose Paper (B), and you should choose Rock (X). This ends in a loss for you with a score of 1 (1 + 0).\n",
    "- The third round is a draw with both players choosing Scissors, giving you a score of 3 + 3 = 6.\n",
    "\n",
    "In this example, if you were to follow the strategy guide, you would get a total score of 15 (8 + 1 + 6).\n",
    "\n",
    "What would your total score be if everything goes exactly according to your strategy guide?\n"
   ]
  },
  {
   "cell_type": "code",
   "execution_count": 7,
   "metadata": {},
   "outputs": [
    {
     "name": "stdout",
     "output_type": "stream",
     "text": [
      "Total game score: 11,449\n"
     ]
    }
   ],
   "source": [
    "from enum import Enum\n",
    "\n",
    "class RockPaperScissor(Enum):\n",
    "    # oponents\n",
    "    A = 'ROCK'\n",
    "    B = 'PAPER'\n",
    "    C = 'SCISSORS' \n",
    "    # mine\n",
    "    X = 'ROCK'\n",
    "    Y = 'PAPER'\n",
    "    Z = 'SCISSORS' \n",
    "\n",
    "class ItemValue(Enum):\n",
    "    ROCK = 1\n",
    "    PAPER = 2\n",
    "    SCISSORS = 3\n",
    "\n",
    "WON = 6\n",
    "DRAW = 3\n",
    "\n",
    "\n",
    "def win_or_draw(mine, oponent):\n",
    "    if mine == oponent:\n",
    "        return DRAW\n",
    "    if mine == 'ROCK':\n",
    "        if oponent == 'PAPER':\n",
    "            return 0\n",
    "        if oponent == 'SCISSORS':\n",
    "            return WON\n",
    "    elif mine == 'PAPER':\n",
    "        if oponent == 'ROCK':\n",
    "            return WON\n",
    "        if oponent == 'SCISSORS':\n",
    "            return 0\n",
    "    elif mine == 'SCISSORS':\n",
    "        if oponent == 'ROCK':\n",
    "            return 0\n",
    "        if oponent == 'PAPER':\n",
    "            return WON\n",
    "\n",
    "total_score = 0\n",
    "with open('data.txt', 'r') as input:\n",
    "\n",
    "    while True:\n",
    "        line = input.readline().split()\n",
    "        if not line:\n",
    "            break\n",
    "\n",
    "        oponent, mine = [RockPaperScissor[item].value for item in line]\n",
    "        total_score += ItemValue[mine].value\n",
    "        if score := win_or_draw(mine, oponent):\n",
    "            total_score += score\n",
    "\n",
    "print(f'Total game score: {total_score:,}')"
   ]
  },
  {
   "cell_type": "markdown",
   "metadata": {},
   "source": [
    "## Part Two\n",
    "\n",
    "The Elf finishes helping with the tent and sneaks back over to you. \"Anyway, the second column says how the round needs to end: X means you need to lose, Y means you need to end the round in a draw, and Z means you need to win. Good luck!\"\n",
    "\n",
    "The total score is still calculated in the same way, but now you need to figure out what shape to choose so the round ends as indicated. The example above now goes like this:\n",
    "\n",
    "- In the first round, your opponent will choose Rock (A), and you need the round to end in a draw (Y), so you also choose Rock. This gives you a score of 1 + 3 = 4.\n",
    "- In the second round, your opponent will choose Paper (B), and you choose Rock so you lose (X) with a score of 1 + 0 = 1.\n",
    "- In the third round, you will defeat your opponent's Scissors with Rock for a score of 1 + 6 = 7.\n",
    "\n",
    "Now that you're correctly decrypting the ultra top secret strategy guide, you would get a total score of 12.\n",
    "\n",
    "Following the Elf's instructions for the second column, what would your total score be if everything goes exactly according to your strategy guide?\n"
   ]
  },
  {
   "cell_type": "code",
   "execution_count": 16,
   "metadata": {},
   "outputs": [
    {
     "name": "stdout",
     "output_type": "stream",
     "text": [
      "Total game score: 13,187\n"
     ]
    }
   ],
   "source": [
    "from enum import Enum\n",
    "\n",
    "class RockPaperScissor(Enum):\n",
    "    A = 'ROCK'\n",
    "    B = 'PAPER'\n",
    "    C = 'SCISSORS'\n",
    "\n",
    "class ToDo(Enum):\n",
    "    X = 'LOSE'\n",
    "    Y = 'DRAW'\n",
    "    Z = 'WIN'\n",
    "\n",
    "class ItemValue(Enum):\n",
    "    ROCK = 1\n",
    "    PAPER = 2\n",
    "    SCISSORS = 3\n",
    "\n",
    "WON_VALUE = 6\n",
    "DRAW_VALUE = 3\n",
    "LOSE_VALUE = 0\n",
    "\n",
    "def win_or_draw(oponent, todo):\n",
    "    if todo == 'DRAW':\n",
    "        return oponent, DRAW_VALUE\n",
    "    if todo == 'LOSE':\n",
    "        if oponent == 'ROCK':\n",
    "            return 'SCISSORS', LOSE_VALUE\n",
    "        if oponent == 'PAPER':\n",
    "            return 'ROCK', LOSE_VALUE\n",
    "        if oponent == 'SCISSORS':\n",
    "            return 'PAPER', LOSE_VALUE\n",
    "    if todo == 'WIN':\n",
    "        if oponent == 'ROCK':\n",
    "            return 'PAPER', WON_VALUE\n",
    "        if oponent == 'PAPER':\n",
    "            return 'SCISSORS', WON_VALUE\n",
    "        if oponent == 'SCISSORS':\n",
    "            return 'ROCK', WON_VALUE\n",
    "\n",
    "total_score = 0\n",
    "with open('data.txt', 'r') as input:\n",
    "\n",
    "    while True:\n",
    "        line = input.readline().split()\n",
    "        if not line:\n",
    "            break\n",
    "\n",
    "        oponent, todo = RockPaperScissor[line[0]].value, ToDo[line[1]].value\n",
    "        mine, score = win_or_draw(oponent, todo)\n",
    "        total_score += ItemValue[mine].value + score\n",
    "\n",
    "print(f'Total game score: {total_score:,}')"
   ]
  }
 ],
 "metadata": {
  "kernelspec": {
   "display_name": "Python 3.10.8 ('adventvenv': venv)",
   "language": "python",
   "name": "python3"
  },
  "language_info": {
   "codemirror_mode": {
    "name": "ipython",
    "version": 3
   },
   "file_extension": ".py",
   "mimetype": "text/x-python",
   "name": "python",
   "nbconvert_exporter": "python",
   "pygments_lexer": "ipython3",
   "version": "3.10.8"
  },
  "orig_nbformat": 4,
  "vscode": {
   "interpreter": {
    "hash": "949557525df4f288aa6b01b9ecd0e577ebf1fcab132ff1604e97c4ee9041d48a"
   }
  }
 },
 "nbformat": 4,
 "nbformat_minor": 2
}
