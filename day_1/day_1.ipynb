{
 "cells": [
  {
   "cell_type": "markdown",
   "metadata": {},
   "source": [
    "# Day 1: Calorie Counting \n",
    "## Part One\n",
    "\n",
    "Santa's reindeer typically eat regular reindeer food, but they need a lot of magical energy to deliver presents on Christmas. For that, their favorite snack is a special type of star fruit that only grows deep in the jungle. The Elves have brought you on their annual expedition to the grove where the fruit grows.\n",
    "\n",
    "To supply enough magical energy, the expedition needs to retrieve a minimum of fifty stars by December 25th. Although the Elves assure you that the grove has plenty of fruit, you decide to grab any fruit you see along the way, just in case.\n",
    "\n",
    "Collect stars by solving puzzles. Two puzzles will be made available on each day in the Advent calendar; the second puzzle is unlocked when you complete the first. Each puzzle grants one star. Good luck!\n",
    "\n",
    "The jungle must be too overgrown and difficult to navigate in vehicles or access from the air; the Elves' expedition traditionally goes on foot. As your boats approach land, the Elves begin taking inventory of their supplies. One important consideration is food - in particular, the number of Calories each Elf is carrying (your puzzle input).\n",
    "\n",
    "The Elves take turns writing down the number of Calories contained by the various meals, snacks, rations, etc. that they've brought with them, one item per line. Each Elf separates their own inventory from the previous Elf's inventory (if any) by a blank line.\n",
    "\n",
    "For example, suppose the Elves finish writing their items' Calories and end up with the following list:\n",
    "\n",
    "1000\\\n",
    "2000\\\n",
    "3000\n",
    "\n",
    "4000\n",
    "\n",
    "5000\\\n",
    "6000\n",
    "\n",
    "7000\\\n",
    "8000\\\n",
    "9000\n",
    "\n",
    "10000\n",
    "\n",
    "This list represents the Calories of the food carried by five Elves:\n",
    "\n",
    "- The first Elf is carrying food with 1000, 2000, and 3000 Calories, a total of 6000 Calories.\n",
    "- The second Elf is carrying one food item with 4000 Calories.\n",
    "- The third Elf is carrying food with 5000 and 6000 Calories, a total of 11000 Calories.\n",
    "- The fourth Elf is carrying food with 7000, 8000, and 9000 Calories, a total of 24000 Calories.\n",
    "- The fifth Elf is carrying one food item with 10000 Calories.\n",
    "\n",
    "In case the Elves get hungry and need extra snacks, they need to know which Elf to ask: they'd like to know how many Calories are being carried by the Elf carrying the most Calories. In the example above, this is 24000 (carried by the fourth Elf).\n",
    "\n",
    "Find the Elf carrying the most Calories. How many total Calories is that Elf carrying?\n"
   ]
  },
  {
   "cell_type": "code",
   "execution_count": 33,
   "metadata": {},
   "outputs": [
    {
     "name": "stdout",
     "output_type": "stream",
     "text": [
      "Max calories: 71,934\n"
     ]
    }
   ],
   "source": [
    "current_calories = 0\n",
    "max_calories = 0\n",
    "\n",
    "with open('data.txt', 'r') as input:\n",
    "\n",
    "    while True:\n",
    "        line = input.readline()\n",
    "\n",
    "        try: \n",
    "            calories = int(line)\n",
    "        except ValueError:  # end of one elf's calories\n",
    "            if current_calories > max_calories:\n",
    "                max_calories = current_calories\n",
    "            # clear elf's calories\n",
    "            current_calories = 0\n",
    "        else:\n",
    "            current_calories += calories\n",
    "\n",
    "        if not line:  # end of file\n",
    "            break\n",
    "\n",
    "print(f'Max calories: {max_calories:,}')"
   ]
  },
  {
   "cell_type": "markdown",
   "metadata": {},
   "source": [
    "## Part Two\n",
    "\n",
    "By the time you calculate the answer to the Elves' question, they've already realized that the Elf carrying the most Calories of food might eventually run out of snacks.\n",
    "\n",
    "To avoid this unacceptable situation, the Elves would instead like to know the total Calories carried by the top three Elves carrying the most Calories. That way, even if one of those Elves runs out of snacks, they still have two backups.\n",
    "\n",
    "In the example above, the top three Elves are the fourth Elf (with 24000 Calories), then the third Elf (with 11000 Calories), then the fifth Elf (with 10000 Calories). The sum of the Calories carried by these three elves is 45000.\n",
    "\n",
    "Find the top three Elves carrying the most Calories. How many Calories are those Elves carrying in total?\n"
   ]
  },
  {
   "cell_type": "code",
   "execution_count": 32,
   "metadata": {},
   "outputs": [
    {
     "name": "stdout",
     "output_type": "stream",
     "text": [
      "Top three calories amounts: 211,447\n"
     ]
    }
   ],
   "source": [
    "from collections import deque\n",
    "\n",
    "top_three_calories = deque([0, 0, 0], maxlen=3)\n",
    "current_calories = 0\n",
    "min_from_top = 0\n",
    "\n",
    "with open('data.txt', 'r') as input:\n",
    "    first_three = []\n",
    "    while True:\n",
    "        line = input.readline()\n",
    "        try: \n",
    "            calories = int(line)\n",
    "        except ValueError:\n",
    "            min_from_top = min(top_three_calories)\n",
    "            if current_calories > min_from_top:\n",
    "                position = top_three_calories.index(min_from_top)\n",
    "                top_three_calories[position] = current_calories\n",
    "            # clear elfs calories\n",
    "            current_calories = 0\n",
    "        else:\n",
    "            current_calories += calories\n",
    "        if not line:\n",
    "            break\n",
    "\n",
    "print(f'Top three calories amounts: {sum(top_three_calories):,}')\n"
   ]
  }
 ],
 "metadata": {
  "kernelspec": {
   "display_name": "Python 3.10.8 ('adventvenv': venv)",
   "language": "python",
   "name": "python3"
  },
  "language_info": {
   "codemirror_mode": {
    "name": "ipython",
    "version": 3
   },
   "file_extension": ".py",
   "mimetype": "text/x-python",
   "name": "python",
   "nbconvert_exporter": "python",
   "pygments_lexer": "ipython3",
   "version": "3.10.8"
  },
  "orig_nbformat": 4,
  "vscode": {
   "interpreter": {
    "hash": "949557525df4f288aa6b01b9ecd0e577ebf1fcab132ff1604e97c4ee9041d48a"
   }
  }
 },
 "nbformat": 4,
 "nbformat_minor": 2
}
